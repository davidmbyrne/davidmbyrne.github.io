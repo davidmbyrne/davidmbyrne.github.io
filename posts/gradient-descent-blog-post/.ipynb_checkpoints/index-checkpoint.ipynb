{
 "cells": [
  {
   "cell_type": "markdown",
   "id": "0c4368c4-27ca-4d7b-94c2-9dfbe706b1ce",
   "metadata": {},
   "source": [
    "## Logistic Regression"
   ]
  },
  {
   "cell_type": "raw",
   "id": "744153d1-6b4d-4c16-bcd6-423a972b170a",
   "metadata": {},
   "source": [
    "---\n",
    "title: Logistic Regression\n",
    "author: David Byrne\n",
    "date: '2023-03-17'\n",
    "image: \"background.jpeg\"\n",
    "description: \"An example blog post illustrating the key techniques you'll need to demonstrate your learning in CSCI 0451.\"\n",
    "format: html\n",
    "---"
   ]
  }
 ],
 "metadata": {
  "kernelspec": {
   "display_name": "Python [conda env:ml-0451] *",
   "language": "python",
   "name": "conda-env-ml-0451-py"
  },
  "language_info": {
   "codemirror_mode": {
    "name": "ipython",
    "version": 3
   },
   "file_extension": ".py",
   "mimetype": "text/x-python",
   "name": "python",
   "nbconvert_exporter": "python",
   "pygments_lexer": "ipython3",
   "version": "3.9.16"
  }
 },
 "nbformat": 4,
 "nbformat_minor": 5
}
