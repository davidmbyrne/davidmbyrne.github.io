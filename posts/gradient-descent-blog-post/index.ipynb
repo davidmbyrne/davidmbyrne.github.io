{
 "cells": [
  {
   "cell_type": "raw",
   "id": "17fc09b5-8740-405f-850c-0d46115bcc10",
   "metadata": {},
   "source": [
    "---\n",
    "title: Gradient Descent\n",
    "author: David Byrne\n",
    "date: '2023-03-17'\n",
    "image: \"background.jpeg\"\n",
    "description: \"A dive into implementation and usage of both normal and stochastic gradient descent\"\n",
    "format: html\n",
    "---"
   ]
  },
  {
   "cell_type": "markdown",
   "id": "4fefdca0-2e01-42bd-a8ab-34a39db12190",
   "metadata": {},
   "source": [
    "## Gradient Descent"
   ]
  },
  {
   "cell_type": "markdown",
   "id": "6788f3b9-8b42-4355-9a37-551c40e61e6a",
   "metadata": {},
   "source": [
    "#### Importing Packages"
   ]
  },
  {
   "cell_type": "code",
   "execution_count": 1,
   "id": "bcdacd7a-e779-4b43-b881-cbde09b16b24",
   "metadata": {},
   "outputs": [],
   "source": [
    "from logisticregression import LogisticRegression\n",
    "import numpy as np\n",
    "import pandas as pd\n",
    "import seaborn as sns\n",
    "from matplotlib import pyplot as plt\n",
    "from sklearn.datasets import make_blobs\n",
    "from sklearn.datasets import make_moons\n",
    "import random"
   ]
  },
  {
   "cell_type": "markdown",
   "id": "7c1bfe90-cd3d-4b6c-9c07-f9594b68c376",
   "metadata": {},
   "source": [
    "#### Source Code"
   ]
  },
  {
   "cell_type": "markdown",
   "id": "c480a050-5c47-4f89-88fb-717b1709b319",
   "metadata": {},
   "source": [
    "Source code for this post can be found at https://github.com/davidmbyrne/davidmbyrne.github.io/blob/main/posts/gradient-descent-blog-post/logisticregression.py"
   ]
  },
  {
   "cell_type": "markdown",
   "id": "1f8f6791-0050-4be4-abea-ad5a828b5a48",
   "metadata": {},
   "source": [
    "The implementation of gradient descent was rather straightforward. The gradient method was rather significant, and employed the logistic sigmoid function to calculate:  \n",
    "$$\\nabla L(w) = \\frac{1}{n} \\sum_{i=1}^n (\\sigma(\\langle w,x_i \\rangle) - y_i)x_i$$\n",
    "I used this value in the update step of the fit method, \n",
    "$$w^{(i+1)} = w^{(i)} - \\alpha \\nabla L(w)$$\n",
    "where alpha is the model's learning rate.\n",
    "This update is called anytime that the current loss calculated by the empirical risk method is not computationally close to the previous loss. Once our loss function is successfully minimized, the algorithm converges to a value for $w$ ."
   ]
  },
  {
   "cell_type": "markdown",
   "id": "4d8c6cfa-a442-4773-8ed0-108ad9548261",
   "metadata": {},
   "source": [
    "#### Playing with learning rate\n",
    "One of the variables that gradient decent utlizes is the learning rate, or alpha. We utilize this value in calculating a new weight vector $w$, and it determines the impact that the gradient has in each step of modifying $w$. A small value of alpha will make the steps from each iteration to the next smaller, while a larger alpha will cause larger jumps. When choosing an effective value for alpha, it is important to consider this balance. A very small alpha will cause the minimization of the loss function to take a long time to converge, but too large of an alpha value will make it impossible to converge at all. We can observe this case of non convergence."
   ]
  },
  {
   "cell_type": "code",
   "execution_count": 6,
   "id": "6383a0a4-0e86-4146-81d8-b1cf29487dcb",
   "metadata": {},
   "outputs": [],
   "source": [
    "random.seed(14)\n",
    "X, y = make_moons(n_samples = 100, noise = 0.35)"
   ]
  },
  {
   "cell_type": "markdown",
   "id": "2207e15b-4afe-4985-ba03-d6ea6125debe",
   "metadata": {},
   "source": [
    "##### Appropriate Alpha"
   ]
  },
  {
   "cell_type": "code",
   "execution_count": 3,
   "id": "ba0efa55-0f9a-4f8e-9127-86c244bfa5da",
   "metadata": {},
   "outputs": [
    {
     "name": "stdout",
     "output_type": "stream",
     "text": [
      "Converged after 12 tries\n"
     ]
    }
   ],
   "source": [
    "LR = LogisticRegression()\n",
    "m_epochs = 1000\n",
    "alpha = 0.1\n",
    "\n",
    "LR.fit(X, y, m_epochs, alpha)"
   ]
  },
  {
   "cell_type": "markdown",
   "id": "d0132a5c-e3e3-40d0-8409-2e887fbd301f",
   "metadata": {},
   "source": [
    "##### Too Large of an Alpha"
   ]
  },
  {
   "cell_type": "code",
   "execution_count": 5,
   "id": "e80dfc4c-8dd6-442d-b5a2-5920bfb90a3d",
   "metadata": {},
   "outputs": [
    {
     "name": "stdout",
     "output_type": "stream",
     "text": [
      "Reached maximum epochs before converging\n"
     ]
    }
   ],
   "source": [
    "random.seed(14)\n",
    "LR = LogisticRegression()\n",
    "m_epochs = 1000\n",
    "alpha = 3\n",
    "\n",
    "LR.fit(X, y, m_epochs, alpha)"
   ]
  },
  {
   "cell_type": "markdown",
   "id": "7db96ac4-99b0-41eb-b347-d79e1362e4f5",
   "metadata": {},
   "source": [
    "#### Batch Size and Stochastic Gradient Descent\n",
    "In addition to our typical run of the mill gradient descent, we can implement stochastic gradient descent, which divides the full data set into \"batches\" or subsets of a given size and calculates the gradient over just that batch. We can use this to our advantage, as manipulating batch size can affect the speed at which the loss function converges."
   ]
  },
  {
   "cell_type": "code",
   "execution_count": 221,
   "id": "dd0440cf-82c4-431c-94a0-1dfab7cf0072",
   "metadata": {},
   "outputs": [],
   "source": [
    "p_features = 20\n",
    "X, y = make_blobs(n_samples = 100, n_features = p_features - 1, centers = [(-1, -1), (1, 1)])\n"
   ]
  },
  {
   "cell_type": "code",
   "execution_count": 272,
   "id": "0dcbce73-6157-4031-a267-821d347e44d8",
   "metadata": {},
   "outputs": [
    {
     "name": "stdout",
     "output_type": "stream",
     "text": [
      "The average amount of epochs to convergence was 2.89\n"
     ]
    }
   ],
   "source": [
    "LR = LogisticRegression()\n",
    "\n",
    "term_arr = []\n",
    "m_epochs = 1000\n",
    "alpha = 0.05\n",
    "batch_size = 5\n",
    "for i in range(100):\n",
    "    LR.fit_stochastic(X, y, m_epochs, alpha, batch_size)\n",
    "    term_arr.append(LR.stop)\n",
    "print(\"The average amount of epochs to convergence was \" + str(sum(term_arr)/100))"
   ]
  },
  {
   "cell_type": "code",
   "execution_count": 273,
   "id": "a7e40813-0343-4da3-a593-8501e4725a76",
   "metadata": {},
   "outputs": [
    {
     "name": "stdout",
     "output_type": "stream",
     "text": [
      "The average amount of epochs to convergence was 5.04\n"
     ]
    }
   ],
   "source": [
    "LR = LogisticRegression()\n",
    "\n",
    "term_arr = []\n",
    "m_epochs = 1000\n",
    "alpha = 0.05\n",
    "batch_size = 20\n",
    "for i in range(100):\n",
    "    LR.fit_stochastic(X, y, m_epochs, alpha, batch_size)\n",
    "    term_arr.append(LR.stop)\n",
    "print(\"The average amount of epochs to convergence was \" + str(sum(term_arr)/100))"
   ]
  },
  {
   "cell_type": "markdown",
   "id": "d9df5397-c7d5-4c77-9ef2-3b6bda296c4c",
   "metadata": {},
   "source": [
    "In this case, using a smaller batch size of 5 led to convergence in nearly half of the total epochs when compared to a batch size of 20. To see a greater trend, we can try all batch sizes from 2 to 30."
   ]
  },
  {
   "cell_type": "code",
   "execution_count": 280,
   "id": "88149a11-79cc-485c-bc50-5fa910bec50c",
   "metadata": {},
   "outputs": [
    {
     "data": {
      "image/png": "[encoded data removed]",
      "text/plain": [
       "<Figure size 640x480 with 1 Axes>"
      ]
     },
     "metadata": {},
     "output_type": "display_data"
    }
   ],
   "source": [
    "tracker = []\n",
    "for i in range(2,30):\n",
    "    term_arr = []\n",
    "    m_epochs = 1000\n",
    "    alpha = 0.05\n",
    "    batch_size = i+2\n",
    "    for i in range(100):\n",
    "        LR.fit_stochastic(X, y, m_epochs, alpha, batch_size)\n",
    "        term_arr.append(LR.stop)\n",
    "    tracker.append(sum(term_arr)/100)\n",
    "fig = plt.plot(tracker)\n",
    "xlab = plt.xlabel(\"Batch Size\")\n",
    "ylab = plt.ylabel(\"Average Epochs\")"
   ]
  },
  {
   "cell_type": "markdown",
   "id": "2c5bf0a6-2eff-4893-9276-352789d63008",
   "metadata": {},
   "source": [
    "The larger experiment confirms the previous belief, and smaller batch sizes have faster convergence times, with the change plateauing after a batch size of about 15. "
   ]
  }
 ],
 "metadata": {
  "kernelspec": {
   "display_name": "Python 3 (ipykernel)",
   "language": "python",
   "name": "python3"
  },
  "language_info": {
   "codemirror_mode": {
    "name": "ipython",
    "version": 3
   },
   "file_extension": ".py",
   "mimetype": "text/x-python",
   "name": "python",
   "nbconvert_exporter": "python",
   "pygments_lexer": "ipython3",
   "version": "3.9.16"
  }
 },
 "nbformat": 4,
 "nbformat_minor": 5
}
