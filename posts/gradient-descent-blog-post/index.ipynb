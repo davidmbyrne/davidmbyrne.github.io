{
 "cells": [
  {
   "cell_type": "markdown",
   "id": "0c4368c4-27ca-4d7b-94c2-9dfbe706b1ce",
   "metadata": {},
   "source": [
    "## Logistic Regression"
   ]
  },
  {
   "cell_type": "raw",
   "id": "744153d1-6b4d-4c16-bcd6-423a972b170a",
   "metadata": {},
   "source": [
    "---\n",
    "title: Logistic Regression\n",
    "author: David Byrne\n",
    "date: '2023-03-17'\n",
    "image: \"background.jpeg\"\n",
    "description: \"An example blog post illustrating the key techniques you'll need to demonstrate your learning in CSCI 0451.\"\n",
    "format: html\n",
    "---"
   ]
  },
  {
   "cell_type": "markdown",
   "id": "6788f3b9-8b42-4355-9a37-551c40e61e6a",
   "metadata": {},
   "source": [
    "#### Importing Packages"
   ]
  },
  {
   "cell_type": "code",
   "execution_count": 3,
   "id": "bcdacd7a-e779-4b43-b881-cbde09b16b24",
   "metadata": {},
   "outputs": [],
   "source": [
    "from logisticregression import LogisticRegression\n",
    "import numpy as np\n",
    "import pandas as pd\n",
    "import seaborn as sns\n",
    "from matplotlib import pyplot as plt\n",
    "from sklearn.datasets import make_blobs"
   ]
  },
  {
   "cell_type": "markdown",
   "id": "7c1bfe90-cd3d-4b6c-9c07-f9594b68c376",
   "metadata": {},
   "source": [
    "#### Source Code"
   ]
  },
  {
   "cell_type": "markdown",
   "id": "c480a050-5c47-4f89-88fb-717b1709b319",
   "metadata": {},
   "source": [
    "Source code for this oost can be found at https://github.com/davidmbyrne/davidmbyrne.github.io/blob/main/posts/gradient-descent-blog-post/logisticregression.py"
   ]
  },
  {
   "cell_type": "markdown",
   "id": "4d8c6cfa-a442-4773-8ed0-108ad9548261",
   "metadata": {},
   "source": []
  }
 ],
 "metadata": {
  "kernelspec": {
   "display_name": "Python [conda env:ml-0451] *",
   "language": "python",
   "name": "conda-env-ml-0451-py"
  },
  "language_info": {
   "codemirror_mode": {
    "name": "ipython",
    "version": 3
   },
   "file_extension": ".py",
   "mimetype": "text/x-python",
   "name": "python",
   "nbconvert_exporter": "python",
   "pygments_lexer": "ipython3",
   "version": "3.9.16"
  }
 },
 "nbformat": 4,
 "nbformat_minor": 5
}
